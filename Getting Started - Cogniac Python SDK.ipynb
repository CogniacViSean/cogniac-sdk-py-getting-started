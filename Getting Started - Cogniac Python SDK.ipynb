{
 "cells": [
  {
   "cell_type": "markdown",
   "id": "annoying-finnish",
   "metadata": {},
   "source": [
    "# Cogniac Python SDK #"
   ]
  },
  {
   "cell_type": "code",
   "execution_count": 1,
   "id": "simple-restaurant",
   "metadata": {},
   "outputs": [],
   "source": [
    "from cogniac import CogniacConnection"
   ]
  },
  {
   "cell_type": "code",
   "execution_count": 2,
   "id": "e75cc307",
   "metadata": {},
   "outputs": [],
   "source": [
    "tenant_id = 'jbq93i0pqabb'  # Getting Started tenant ID"
   ]
  },
  {
   "cell_type": "code",
   "execution_count": 3,
   "id": "occupational-allah",
   "metadata": {},
   "outputs": [],
   "source": [
    "cc = CogniacConnection(tenant_id=tenant_id) # COG_USER and COG_PASS are set"
   ]
  },
  {
   "cell_type": "code",
   "execution_count": 4,
   "id": "moral-canon",
   "metadata": {},
   "outputs": [],
   "source": [
    "tenant = cc.get_tenant()\n",
    "applications = cc.get_all_applications()\n",
    "subjects = cc.get_all_subjects()"
   ]
  },
  {
   "cell_type": "code",
   "execution_count": 5,
   "id": "brilliant-stability",
   "metadata": {},
   "outputs": [
    {
     "data": {
      "text/plain": [
       "Cogniac - Getting Started (jbq93i0pqabb)"
      ]
     },
     "execution_count": 5,
     "metadata": {},
     "output_type": "execute_result"
    }
   ],
   "source": [
    "tenant"
   ]
  },
  {
   "cell_type": "code",
   "execution_count": 6,
   "id": "painful-bridal",
   "metadata": {},
   "outputs": [
    {
     "data": {
      "text/plain": [
       "[amytest (edehs8zr),\n",
       " Detect Pliers (nrpgjopr),\n",
       " Detect Pliers (s4n8palr),\n",
       " Detect Pliers (z2q7ijqs),\n",
       " Detect4 (feiizwbq),\n",
       " Detection2 (tgd4facd),\n",
       " detection3 (jgtvg1dt)]"
      ]
     },
     "execution_count": 6,
     "metadata": {},
     "output_type": "execute_result"
    }
   ],
   "source": [
    "applications"
   ]
  },
  {
   "cell_type": "code",
   "execution_count": 7,
   "id": "rough-powder",
   "metadata": {},
   "outputs": [
    {
     "data": {
      "text/plain": [
       "[Plier (plier_3bcdswen),\n",
       " Plier (plier_5pkwtwld),\n",
       " Plier And Needle Plier (plier_and_needle_plier_1mj),\n",
       " Plier2 (plier2_6eczjec),\n",
       " test (test_6zgejojdv),\n",
       " test-sub (testsub_8moowt),\n",
       " test=sub2 (testsub2_6mkcm),\n",
       " Tool Box (tool_box_9uheh)]"
      ]
     },
     "execution_count": 7,
     "metadata": {},
     "output_type": "execute_result"
    }
   ],
   "source": [
    "subjects"
   ]
  },
  {
   "cell_type": "code",
   "execution_count": 8,
   "id": "prerequisite-chest",
   "metadata": {},
   "outputs": [
    {
     "data": {
      "text/plain": [
       "[amytest (edehs8zr),\n",
       " Detect Pliers (z2q7ijqs),\n",
       " Detect4 (feiizwbq),\n",
       " Detection2 (tgd4facd),\n",
       " detection3 (jgtvg1dt)]"
      ]
     },
     "execution_count": 8,
     "metadata": {},
     "output_type": "execute_result"
    }
   ],
   "source": [
    "active_applications = [app for app in applications if app.active]\n",
    "active_applications"
   ]
  },
  {
   "cell_type": "code",
   "execution_count": 9,
   "id": "fuzzy-learning",
   "metadata": {},
   "outputs": [],
   "source": [
    "application_id = 'z2q7ijqs'"
   ]
  },
  {
   "cell_type": "code",
   "execution_count": 10,
   "id": "exact-banana",
   "metadata": {},
   "outputs": [
    {
     "data": {
      "text/plain": [
       "Detect Pliers (z2q7ijqs)"
      ]
     },
     "execution_count": 10,
     "metadata": {},
     "output_type": "execute_result"
    }
   ],
   "source": [
    "application = cc.get_application(application_id)\n",
    "application"
   ]
  },
  {
   "cell_type": "code",
   "execution_count": 11,
   "id": "theoretical-greeting",
   "metadata": {},
   "outputs": [
    {
     "data": {
      "text/plain": [
       "'plier_3bcdswen'"
      ]
     },
     "execution_count": 11,
     "metadata": {},
     "output_type": "execute_result"
    }
   ],
   "source": [
    "subject_id = application.output_subjects[0]\n",
    "subject_id"
   ]
  },
  {
   "cell_type": "code",
   "execution_count": 12,
   "id": "damaged-integral",
   "metadata": {},
   "outputs": [
    {
     "data": {
      "text/plain": [
       "Plier (plier_3bcdswen)"
      ]
     },
     "execution_count": 12,
     "metadata": {},
     "output_type": "execute_result"
    }
   ],
   "source": [
    "subject = cc.get_subject(subject_id)\n",
    "subject"
   ]
  },
  {
   "cell_type": "code",
   "execution_count": 13,
   "id": "metallic-guitar",
   "metadata": {},
   "outputs": [
    {
     "data": {
      "text/plain": [
       "<generator object CogniacSubject.media_associations at 0x000001FD9B7229E0>"
      ]
     },
     "execution_count": 13,
     "metadata": {},
     "output_type": "execute_result"
    }
   ],
   "source": [
    "subject.media_associations()"
   ]
  },
  {
   "cell_type": "code",
   "execution_count": 14,
   "id": "japanese-hierarchy",
   "metadata": {},
   "outputs": [],
   "source": [
    "all_media_associations = [association for association in subject.media_associations()]"
   ]
  },
  {
   "cell_type": "code",
   "execution_count": 15,
   "id": "geological-atlantic",
   "metadata": {},
   "outputs": [
    {
     "data": {
      "text/plain": [
       "{'other_media': [],\n",
       " 'media': {'media_id': 'XF2UTKUPEK3OWNOIA9BQSYLEF07T'},\n",
       " 'subject': {'media_id': 'XF2UTKUPEK3OWNOIA9BQSYLEF07T',\n",
       "  'probability': 0.000995069883951259,\n",
       "  'focus': None,\n",
       "  'app_data_type': None,\n",
       "  'updated_at': 1622821928.748013,\n",
       "  'consensus': None,\n",
       "  'app_data': None,\n",
       "  'subject_uid': 'plier_3bcdswen'},\n",
       " 'focus': None,\n",
       " 'media_list': [{'media_id': 'XF2UTKUPEK3OWNOIA9BQSYLEF07T'}]}"
      ]
     },
     "execution_count": 15,
     "metadata": {},
     "output_type": "execute_result"
    }
   ],
   "source": [
    "media_association = all_media_associations[0]\n",
    "media_association"
   ]
  },
  {
   "cell_type": "code",
   "execution_count": 16,
   "id": "everyday-circulation",
   "metadata": {},
   "outputs": [
    {
     "data": {
      "text/plain": [
       "'XF2UTKUPEK3OWNOIA9BQSYLEF07T'"
      ]
     },
     "execution_count": 16,
     "metadata": {},
     "output_type": "execute_result"
    }
   ],
   "source": [
    "media_id = media_association['media']['media_id']\n",
    "media_id"
   ]
  },
  {
   "cell_type": "code",
   "execution_count": 17,
   "id": "vulnerable-logistics",
   "metadata": {},
   "outputs": [
    {
     "data": {
      "text/plain": [
       "<cogniac.media.CogniacMedia at 0x1fd9b7e9250>"
      ]
     },
     "execution_count": 17,
     "metadata": {},
     "output_type": "execute_result"
    }
   ],
   "source": [
    "media = cc.get_media(media_id)\n",
    "media"
   ]
  },
  {
   "cell_type": "code",
   "execution_count": 18,
   "id": "outdoor-dallas",
   "metadata": {},
   "outputs": [
    {
     "data": {
      "text/plain": [
       "'Image__2019-05-24__14-37-40.png'"
      ]
     },
     "execution_count": 18,
     "metadata": {},
     "output_type": "execute_result"
    }
   ],
   "source": [
    "media.filename"
   ]
  },
  {
   "cell_type": "markdown",
   "id": "sealed-lloyd",
   "metadata": {},
   "source": [
    "\n",
    "# Cogniac REST API #"
   ]
  },
  {
   "cell_type": "code",
   "execution_count": 19,
   "id": "smooth-memorabilia",
   "metadata": {},
   "outputs": [],
   "source": [
    "import os\n",
    "import requests"
   ]
  },
  {
   "cell_type": "code",
   "execution_count": 20,
   "id": "universal-anniversary",
   "metadata": {},
   "outputs": [
    {
     "data": {
      "text/plain": [
       "'https://api.cogniac.io/1'"
      ]
     },
     "execution_count": 20,
     "metadata": {},
     "output_type": "execute_result"
    }
   ],
   "source": [
    "COG_URL_PREFIX = os.environ.get('COG_URL_PREFIX')\n",
    "COG_URL_PREFIX"
   ]
  },
  {
   "cell_type": "code",
   "execution_count": 21,
   "id": "challenging-cartoon",
   "metadata": {},
   "outputs": [],
   "source": [
    "COG_USER = os.environ.get('COG_USER')\n",
    "COG_PASS = os.environ.get('COG_PASS')\n",
    "COG_API_KEY = os.environ.get('COG_API_KEY')"
   ]
  },
  {
   "cell_type": "code",
   "execution_count": 22,
   "id": "internal-humanitarian",
   "metadata": {
    "scrolled": true
   },
   "outputs": [
    {
     "data": {
      "text/plain": [
       "{'build': '1e7d3ba', 'api_version': '1'}"
      ]
     },
     "execution_count": 22,
     "metadata": {},
     "output_type": "execute_result"
    }
   ],
   "source": [
    "resp = requests.get(f'{COG_URL_PREFIX}/version')\n",
    "resp.json()"
   ]
  },
  {
   "cell_type": "code",
   "execution_count": 23,
   "id": "448878a2",
   "metadata": {},
   "outputs": [],
   "source": [
    "auth = (COG_USER, COG_PASS)  # authorization tuple when using username and password"
   ]
  },
  {
   "cell_type": "code",
   "execution_count": 24,
   "id": "jewish-floor",
   "metadata": {},
   "outputs": [
    {
     "data": {
      "text/plain": [
       "list"
      ]
     },
     "execution_count": 24,
     "metadata": {},
     "output_type": "execute_result"
    }
   ],
   "source": [
    "tenants = requests.get(f'{COG_URL_PREFIX}/users/current/tenants', auth=auth).json()['tenants']\n",
    "type(tenants)"
   ]
  },
  {
   "cell_type": "code",
   "execution_count": 25,
   "id": "3df1c7f7",
   "metadata": {},
   "outputs": [
    {
     "data": {
      "text/plain": [
       "dict_keys(['tenant_id', 'name', 'roles'])"
      ]
     },
     "execution_count": 25,
     "metadata": {},
     "output_type": "execute_result"
    }
   ],
   "source": [
    "tenants[0].keys()"
   ]
  },
  {
   "cell_type": "markdown",
   "id": "09108eed",
   "metadata": {},
   "source": [
    "### Retrieve OAuth Token for a specific tenant ###"
   ]
  },
  {
   "cell_type": "code",
   "execution_count": 26,
   "id": "ae3e64d5",
   "metadata": {},
   "outputs": [],
   "source": [
    "authorization = requests.get(f'{COG_URL_PREFIX}/token?tenant_id={tenant_id}', auth=auth).json()\n",
    "auth_header = {'Authorization' : f'Bearer {authorization[\"access_token\"]}'}"
   ]
  },
  {
   "cell_type": "markdown",
   "id": "dbf76371",
   "metadata": {},
   "source": [
    "### Use Token to Retrieve Authenticated Tenant ###"
   ]
  },
  {
   "cell_type": "code",
   "execution_count": 27,
   "id": "2d86311c",
   "metadata": {},
   "outputs": [
    {
     "data": {
      "text/plain": [
       "{'edgeflow_rancher_endpoint': None,\n",
       " 'media_storage_config': None,\n",
       " 'default_inference_execution_policies': None,\n",
       " 'created_by': 'amy@cogniac.co',\n",
       " 'azure_sas_tokens': None,\n",
       " 'description': None,\n",
       " 'contract_max_deployment_groups': None,\n",
       " 'beta': None,\n",
       " 'edgeflow_monitoring_sla': None,\n",
       " 'name': 'Cogniac - Getting Started',\n",
       " 'edgeflow_rancher_user_token': None,\n",
       " 'dedicated_training_instances': None,\n",
       " 'tenant_id': 'jbq93i0pqabb',\n",
       " 'created_at': 1620313987.052882,\n",
       " 'modified_at': 1620313987.052882,\n",
       " 'contract_end_date': None,\n",
       " 'custom_data': None,\n",
       " 'notification_config': None,\n",
       " 'default_subject_expires_in_months': None,\n",
       " 'media_storage_limit_GB': 1000,\n",
       " 'region': None,\n",
       " 'has_ops': None}"
      ]
     },
     "execution_count": 27,
     "metadata": {},
     "output_type": "execute_result"
    }
   ],
   "source": [
    "auth_tenant = requests.get(f'{COG_URL_PREFIX}/tenants/current', headers=auth_header).json()\n",
    "auth_tenant"
   ]
  },
  {
   "cell_type": "markdown",
   "id": "8c3defa3",
   "metadata": {},
   "source": [
    "### Example: Get application events ###"
   ]
  },
  {
   "cell_type": "code",
   "execution_count": 28,
   "id": "3f507f07",
   "metadata": {},
   "outputs": [
    {
     "data": {
      "text/plain": [
       "'https://api.cogniac.io/1/applications/z2q7ijqs/events'"
      ]
     },
     "execution_count": 28,
     "metadata": {},
     "output_type": "execute_result"
    }
   ],
   "source": [
    "events_url = f'{COG_URL_PREFIX}/applications/{application_id}/events'\n",
    "events_url"
   ]
  },
  {
   "cell_type": "code",
   "execution_count": 29,
   "id": "ba54932c",
   "metadata": {},
   "outputs": [],
   "source": [
    "# Utility function to retrieve all data if pagination is required\n",
    "\n",
    "def get_all_data(url):\n",
    "    all_data = []\n",
    "    while url:\n",
    "        resp = requests.get(url, headers=auth_header).json()\n",
    "        all_data.extend(resp['data'])\n",
    "        url = resp['paging'].get('next')\n",
    "    return all_data"
   ]
  },
  {
   "cell_type": "code",
   "execution_count": 30,
   "id": "8d0c60c3",
   "metadata": {},
   "outputs": [
    {
     "data": {
      "text/plain": [
       "[{'application_id': 'z2q7ijqs',\n",
       "  'event_id': 'XQ22THoY',\n",
       "  'created_at': 1622216769.256048,\n",
       "  'message': 'model_id InitialModel_z2q7ijqs_lpnVLd.tgz, validation_media_focus_size 0',\n",
       "  'type': 'model_release',\n",
       "  'event_data': '{\"model_uri\": \"s3://cogniac-models/InitialModel_z2q7ijqs_lpnVLd.tgz\", \"model_id\": \"InitialModel_z2q7ijqs_lpnVLd.tgz\", \"timestamp\": 1622216769.055984, \"validation_data_size\": 0, \"app_id\": \"z2q7ijqs\", \"validation_media_focus_size\": 0, \"output_subjects\": [\"plier_3bcdswen\"], \"tenant_id\": \"jbq93i0pqabb\", \"type\": \"box_detection\", \"release_metrics\": \"best_F1\"}'},\n",
       " {'application_id': 'z2q7ijqs',\n",
       "  'event_id': 'vUmJhdYt',\n",
       "  'created_at': 1622821911.370801,\n",
       "  'message': 'kapil.kaisare@cogniac.co requested replay of 20 subject-media from subject tool_box_9uheh in application z2q7ijqs, replay order random, probability lower 0.50, upper 1.00, time range from Jan 01, 1970 12:00:00 AM to Jun 04, 2021 03:51:51 PM UTC, force_feedback False, validation_only False',\n",
       "  'type': 'application_replay',\n",
       "  'event_data': 'null'},\n",
       " {'application_id': 'z2q7ijqs',\n",
       "  'event_id': 'jGinZGfq',\n",
       "  'created_at': 1622821918.588936,\n",
       "  'message': '20 subject-media have been queued for processing from subject tool_box_9uheh in application z2q7ijqs by user kapil.kaisare@cogniac.co. 16 consensus subject-media skipped.',\n",
       "  'type': 'application_replay',\n",
       "  'event_data': '{\"skipped\": 16, \"subject_uid\": \"tool_box_9uheh\", \"time_lower\": null, \"replay_order\": \"random\", \"force_feedback\": false, \"drop_input_focus\": false, \"probability_upper\": 1.0, \"probability_lower\": 0.5, \"replayed\": 20, \"user_id\": \"kapil.kaisare@cogniac.co\", \"time_upper\": null, \"limit\": 20.0, \"validation_only\": false}'}]"
      ]
     },
     "execution_count": 30,
     "metadata": {},
     "output_type": "execute_result"
    }
   ],
   "source": [
    "events = get_all_data(events_url)\n",
    "events"
   ]
  }
 ],
 "metadata": {
  "kernelspec": {
   "display_name": "Python 3 (ipykernel)",
   "language": "python",
   "name": "python3"
  },
  "language_info": {
   "codemirror_mode": {
    "name": "ipython",
    "version": 3
   },
   "file_extension": ".py",
   "mimetype": "text/x-python",
   "name": "python",
   "nbconvert_exporter": "python",
   "pygments_lexer": "ipython3",
   "version": "3.9.2"
  }
 },
 "nbformat": 4,
 "nbformat_minor": 5
}
